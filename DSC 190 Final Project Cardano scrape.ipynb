{
 "cells": [
  {
   "cell_type": "code",
   "execution_count": 96,
   "id": "1939c53d",
   "metadata": {},
   "outputs": [],
   "source": [
    "import requests\n",
    "from etherscan import Etherscan\n",
    "import networkx as nx\n",
    "import bs4 as bs\n",
    "import pandas as pd\n",
    "import numpy as np\n",
    "import time\n",
    "from collections import Counter\n",
    "from operator import itemgetter\n",
    "\n",
    "\n",
    "from blockfrost import BlockFrostApi, ApiError, ApiUrls\n",
    "import power"
   ]
  },
  {
   "cell_type": "code",
   "execution_count": 12,
   "id": "8ea46295",
   "metadata": {},
   "outputs": [],
   "source": [
    "r = requests.get(r'''https://api.etherscan.io/api\n",
    "   ?module=transaction\n",
    "   &action=getstatus\n",
    "   &txhash=0x15f8e5ea1079d9a0bb04a4c58ae5fe7654b5b2b4463375ff7ffb490aa0032f3a\n",
    "   &apikey=R52XJK3VM8EIZ5CWWTS1B6ZBWX229MTKD3''')"
   ]
  },
  {
   "cell_type": "code",
   "execution_count": 94,
   "id": "bb02af1b",
   "metadata": {},
   "outputs": [],
   "source": [
    "url = 'https://api.covalenthq.com/v1/1/address/0xde0b295669a9fd93d5f28d9ec85e40f4cb697bae/transactions_v2/?key=ckey_2930413639304716a44944bf3e3'"
   ]
  },
  {
   "cell_type": "code",
   "execution_count": 95,
   "id": "466c8ce5",
   "metadata": {},
   "outputs": [],
   "source": [
    "c = requests.get(url)"
   ]
  },
  {
   "cell_type": "code",
   "execution_count": 96,
   "id": "a3c918b1",
   "metadata": {},
   "outputs": [
    {
     "data": {
      "text/plain": [
       "200"
      ]
     },
     "execution_count": 96,
     "metadata": {},
     "output_type": "execute_result"
    }
   ],
   "source": [
    "c.status_code"
   ]
  },
  {
   "cell_type": "code",
   "execution_count": 97,
   "id": "f3ce6381",
   "metadata": {
    "scrolled": true
   },
   "outputs": [],
   "source": [
    "k = c.json()"
   ]
  },
  {
   "cell_type": "code",
   "execution_count": 98,
   "id": "04a50471",
   "metadata": {},
   "outputs": [
    {
     "data": {
      "text/plain": [
       "100"
      ]
     },
     "execution_count": 98,
     "metadata": {},
     "output_type": "execute_result"
    }
   ],
   "source": [
    "len(k['data']['items'])"
   ]
  },
  {
   "cell_type": "code",
   "execution_count": 99,
   "id": "9ad61289",
   "metadata": {},
   "outputs": [
    {
     "data": {
      "text/plain": [
       "7"
      ]
     },
     "execution_count": 99,
     "metadata": {},
     "output_type": "execute_result"
    }
   ],
   "source": [
    "len(k['data'])"
   ]
  },
  {
   "cell_type": "code",
   "execution_count": 50,
   "id": "bdbbad64",
   "metadata": {},
   "outputs": [],
   "source": [
    "r = requests.get(r'https://api.covalenthq.com/v1/1/0xc91f493d7ded10623e356a52455dbb715f51b3c6/transactions_v2/?key=ckey_2930413639304716a44944bf3e3')"
   ]
  },
  {
   "cell_type": "code",
   "execution_count": null,
   "id": "4f14ca10",
   "metadata": {},
   "outputs": [],
   "source": [
    "https://api.covalenthq.com/v1/1/address/0xa79E63e78Eec28741e711f89A672A4C40876Ebf3/transactions_v2/?key=ckey_2930413639304716a44944bf3e3"
   ]
  },
  {
   "cell_type": "code",
   "execution_count": null,
   "id": "86a8c618",
   "metadata": {},
   "outputs": [],
   "source": [
    "https://api.covalenthq.com/v1/1/address/0xa79E63e78Eec28741e711f89A672A4C40876Ebf3/transactions_v2/?key=ckey_2930413639304716a44944bf3e3"
   ]
  },
  {
   "cell_type": "code",
   "execution_count": 51,
   "id": "a5710242",
   "metadata": {},
   "outputs": [
    {
     "data": {
      "text/plain": [
       "'{\"data\":null,\"error\":true,\"error_message\":\"Not found\",\"error_code\":404}'"
      ]
     },
     "execution_count": 51,
     "metadata": {},
     "output_type": "execute_result"
    }
   ],
   "source": [
    "r.text"
   ]
  },
  {
   "cell_type": "code",
   "execution_count": 16,
   "id": "b29c4deb",
   "metadata": {},
   "outputs": [],
   "source": [
    "r = requests.get(r'''https://etherscan.io/accounts''')"
   ]
  },
  {
   "cell_type": "code",
   "execution_count": 22,
   "id": "dcf568a0",
   "metadata": {
    "scrolled": true
   },
   "outputs": [
    {
     "data": {
      "text/plain": [
       "403"
      ]
     },
     "execution_count": 22,
     "metadata": {},
     "output_type": "execute_result"
    }
   ],
   "source": [
    "r.status_code"
   ]
  },
  {
   "cell_type": "code",
   "execution_count": 10,
   "id": "f20c035c",
   "metadata": {},
   "outputs": [],
   "source": [
    "eth = Etherscan('R52XJK3VM8EIZ5CWWTS1B6ZBWX229MTKD3')"
   ]
  },
  {
   "cell_type": "code",
   "execution_count": 23,
   "id": "3b3aa138",
   "metadata": {},
   "outputs": [],
   "source": [
    "?eth.get_normal_txs_by_address"
   ]
  },
  {
   "cell_type": "code",
   "execution_count": 27,
   "id": "2854a9c2",
   "metadata": {
    "scrolled": true
   },
   "outputs": [],
   "source": [
    "r2 = eth.get_normal_txs_by_address_paginated(address = '0x00000000219ab540356cbb839cbe05303d7705fa',\n",
    "                                       startblock = 0,endblock=99999999, page=1,offset=10,sort='asc')"
   ]
  },
  {
   "cell_type": "code",
   "execution_count": null,
   "id": "cb6ba54c",
   "metadata": {},
   "outputs": [],
   "source": []
  },
  {
   "cell_type": "code",
   "execution_count": 34,
   "id": "a254f492",
   "metadata": {},
   "outputs": [
    {
     "data": {
      "text/plain": [
       "'1'"
      ]
     },
     "execution_count": 34,
     "metadata": {},
     "output_type": "execute_result"
    }
   ],
   "source": [
    "r2[1]['isError']"
   ]
  },
  {
   "cell_type": "code",
   "execution_count": 40,
   "id": "928623ec",
   "metadata": {},
   "outputs": [
    {
     "ename": "AssertionError",
     "evalue": "None -- Result window is too large, PageNo x Offset size must be less than or equal to 10000",
     "output_type": "error",
     "traceback": [
      "\u001b[0;31m---------------------------------------------------------------------------\u001b[0m",
      "\u001b[0;31mAssertionError\u001b[0m                            Traceback (most recent call last)",
      "\u001b[0;32m/tmp/ipykernel_2589/2928621263.py\u001b[0m in \u001b[0;36m<module>\u001b[0;34m\u001b[0m\n\u001b[0;32m----> 1\u001b[0;31m t =eth.get_normal_txs_by_address_paginated(address = '0x00000000219ab540356cbb839cbe05303d7705fa',\n\u001b[0m\u001b[1;32m      2\u001b[0m                                        startblock = 0,endblock=99999999, page=2,offset=10000,sort='asc')\n\u001b[1;32m      3\u001b[0m \u001b[0mlen\u001b[0m\u001b[0;34m(\u001b[0m\u001b[0mt\u001b[0m\u001b[0;34m)\u001b[0m\u001b[0;34m\u001b[0m\u001b[0;34m\u001b[0m\u001b[0m\n",
      "\u001b[0;32m~/anaconda3/lib/python3.9/site-packages/etherscan/etherscan.py\u001b[0m in \u001b[0;36mwrapper\u001b[0;34m(*args, **kwargs)\u001b[0m\n\u001b[1;32m     31\u001b[0m             )\n\u001b[1;32m     32\u001b[0m             \u001b[0mr\u001b[0m \u001b[0;34m=\u001b[0m \u001b[0mrequests\u001b[0m\u001b[0;34m.\u001b[0m\u001b[0mget\u001b[0m\u001b[0;34m(\u001b[0m\u001b[0murl\u001b[0m\u001b[0;34m,\u001b[0m \u001b[0mheaders\u001b[0m\u001b[0;34m=\u001b[0m\u001b[0;34m{\u001b[0m\u001b[0;34m\"User-Agent\"\u001b[0m\u001b[0;34m:\u001b[0m \u001b[0;34m\"\"\u001b[0m\u001b[0;34m}\u001b[0m\u001b[0;34m)\u001b[0m\u001b[0;34m\u001b[0m\u001b[0;34m\u001b[0m\u001b[0m\n\u001b[0;32m---> 33\u001b[0;31m             \u001b[0;32mreturn\u001b[0m \u001b[0mparser\u001b[0m\u001b[0;34m.\u001b[0m\u001b[0mparse\u001b[0m\u001b[0;34m(\u001b[0m\u001b[0mr\u001b[0m\u001b[0;34m)\u001b[0m\u001b[0;34m\u001b[0m\u001b[0;34m\u001b[0m\u001b[0m\n\u001b[0m\u001b[1;32m     34\u001b[0m \u001b[0;34m\u001b[0m\u001b[0m\n\u001b[1;32m     35\u001b[0m         \u001b[0;32mreturn\u001b[0m \u001b[0mwrapper\u001b[0m\u001b[0;34m\u001b[0m\u001b[0;34m\u001b[0m\u001b[0m\n",
      "\u001b[0;32m~/anaconda3/lib/python3.9/site-packages/etherscan/utils/parsing.py\u001b[0m in \u001b[0;36mparse\u001b[0;34m(response)\u001b[0m\n\u001b[1;32m     10\u001b[0m             \u001b[0mstatus\u001b[0m \u001b[0;34m=\u001b[0m \u001b[0mbool\u001b[0m\u001b[0;34m(\u001b[0m\u001b[0mint\u001b[0m\u001b[0;34m(\u001b[0m\u001b[0mcontent\u001b[0m\u001b[0;34m[\u001b[0m\u001b[0;34m\"status\"\u001b[0m\u001b[0;34m]\u001b[0m\u001b[0;34m)\u001b[0m\u001b[0;34m)\u001b[0m\u001b[0;34m\u001b[0m\u001b[0;34m\u001b[0m\u001b[0m\n\u001b[1;32m     11\u001b[0m             \u001b[0mmessage\u001b[0m \u001b[0;34m=\u001b[0m \u001b[0mcontent\u001b[0m\u001b[0;34m[\u001b[0m\u001b[0;34m\"message\"\u001b[0m\u001b[0;34m]\u001b[0m\u001b[0;34m\u001b[0m\u001b[0;34m\u001b[0m\u001b[0m\n\u001b[0;32m---> 12\u001b[0;31m             \u001b[0;32massert\u001b[0m \u001b[0mstatus\u001b[0m\u001b[0;34m,\u001b[0m \u001b[0;34mf\"{result} -- {message}\"\u001b[0m\u001b[0;34m\u001b[0m\u001b[0;34m\u001b[0m\u001b[0m\n\u001b[0m\u001b[1;32m     13\u001b[0m         \u001b[0;32melse\u001b[0m\u001b[0;34m:\u001b[0m\u001b[0;34m\u001b[0m\u001b[0;34m\u001b[0m\u001b[0m\n\u001b[1;32m     14\u001b[0m             \u001b[0;31m# GETH or Parity proxy msg format\u001b[0m\u001b[0;34m\u001b[0m\u001b[0;34m\u001b[0m\u001b[0m\n",
      "\u001b[0;31mAssertionError\u001b[0m: None -- Result window is too large, PageNo x Offset size must be less than or equal to 10000"
     ]
    }
   ],
   "source": [
    "t =eth.get_normal_txs_by_address_paginated(address = '0x00000000219ab540356cbb839cbe05303d7705fa',\n",
    "                                       startblock = 0,endblock=99999999, page=2,offset=10000,sort='asc')\n",
    "len(t)"
   ]
  },
  {
   "cell_type": "code",
   "execution_count": null,
   "id": "81291b4e",
   "metadata": {},
   "outputs": [],
   "source": [
    "this is a typing test for the lower mic to see if this typing asmr sosunds good!"
   ]
  },
  {
   "cell_type": "code",
   "execution_count": null,
   "id": "59f66460",
   "metadata": {},
   "outputs": [],
   "source": []
  },
  {
   "cell_type": "code",
   "execution_count": null,
   "id": "e182315a",
   "metadata": {},
   "outputs": [],
   "source": []
  },
  {
   "cell_type": "code",
   "execution_count": null,
   "id": "d5e25f9f",
   "metadata": {},
   "outputs": [],
   "source": []
  },
  {
   "cell_type": "code",
   "execution_count": null,
   "id": "ac82db81",
   "metadata": {},
   "outputs": [],
   "source": []
  },
  {
   "cell_type": "code",
   "execution_count": null,
   "id": "5edd9fe6",
   "metadata": {},
   "outputs": [],
   "source": []
  },
  {
   "cell_type": "code",
   "execution_count": null,
   "id": "a581f59c",
   "metadata": {},
   "outputs": [],
   "source": [
    "## extract stake addresses from html scrape "
   ]
  },
  {
   "cell_type": "code",
   "execution_count": 30,
   "id": "e0028788",
   "metadata": {},
   "outputs": [],
   "source": [
    "address_excel = pd.read_excel(\"/home/b/Downloads/Adresses.xlsx\", sheet_name = 'Cardano')"
   ]
  },
  {
   "cell_type": "code",
   "execution_count": 33,
   "id": "8663bb35",
   "metadata": {},
   "outputs": [],
   "source": [
    "account_hashes = address_excel['account hash string']"
   ]
  },
  {
   "cell_type": "code",
   "execution_count": 36,
   "id": "3d065ae9",
   "metadata": {},
   "outputs": [
    {
     "data": {
      "text/plain": [
       "'https://cardanoscan.io/stakekey/89cd7861f4128d49116eb7e19deb914c7232d5036d5137a88ad1abf6'"
      ]
     },
     "execution_count": 36,
     "metadata": {},
     "output_type": "execute_result"
    }
   ],
   "source": [
    "'https://cardanoscan.io/stakekey/' + account_hashes[0]"
   ]
  },
  {
   "cell_type": "code",
   "execution_count": 41,
   "id": "02b95c88",
   "metadata": {},
   "outputs": [],
   "source": [
    "stake_keys = np.array([])\n",
    "\n",
    "for n in account_hashes:\n",
    "    time.sleep(1)\n",
    "    \n",
    "    t = requests.get('https://cardanoscan.io/stakekey/' + n)\n",
    "    text = bs.BeautifulSoup(t.text)\n",
    "    stake_keys = np.append(stake_keys,text.find('span',class_ = \"text-base font-medium text-primary break-all\").text)"
   ]
  },
  {
   "cell_type": "code",
   "execution_count": 46,
   "id": "119fe227",
   "metadata": {},
   "outputs": [],
   "source": [
    "stake_keys2 = pd.Series(stake_keys)"
   ]
  },
  {
   "cell_type": "code",
   "execution_count": null,
   "id": "f6d48cac",
   "metadata": {},
   "outputs": [],
   "source": []
  },
  {
   "cell_type": "code",
   "execution_count": 43,
   "id": "be7a0fd4",
   "metadata": {},
   "outputs": [
    {
     "data": {
      "text/plain": [
       "606"
      ]
     },
     "execution_count": 43,
     "metadata": {},
     "output_type": "execute_result"
    }
   ],
   "source": [
    "len(stake_keys)"
   ]
  },
  {
   "cell_type": "code",
   "execution_count": 48,
   "id": "a2ce1738",
   "metadata": {},
   "outputs": [],
   "source": [
    "new_ser = address_excel.assign(stake_addresses = stake_keys2)"
   ]
  },
  {
   "cell_type": "code",
   "execution_count": 50,
   "id": "b2a431d3",
   "metadata": {},
   "outputs": [],
   "source": [
    "new_ser.to_excel('/home/b/with_stake.xlsx')"
   ]
  },
  {
   "cell_type": "code",
   "execution_count": null,
   "id": "ae61d551",
   "metadata": {},
   "outputs": [],
   "source": []
  },
  {
   "cell_type": "code",
   "execution_count": 21,
   "id": "f06647ef",
   "metadata": {},
   "outputs": [],
   "source": []
  },
  {
   "cell_type": "code",
   "execution_count": 22,
   "id": "73831828",
   "metadata": {
    "scrolled": true
   },
   "outputs": [
    {
     "data": {
      "text/plain": [
       "200"
      ]
     },
     "execution_count": 22,
     "metadata": {},
     "output_type": "execute_result"
    }
   ],
   "source": [
    "t.status_code"
   ]
  },
  {
   "cell_type": "code",
   "execution_count": 23,
   "id": "114b4961",
   "metadata": {},
   "outputs": [],
   "source": [
    "text = bs.BeautifulSoup(t.text)"
   ]
  },
  {
   "cell_type": "code",
   "execution_count": null,
   "id": "4bd4011c",
   "metadata": {},
   "outputs": [],
   "source": []
  },
  {
   "cell_type": "code",
   "execution_count": null,
   "id": "67277d9b",
   "metadata": {},
   "outputs": [],
   "source": []
  },
  {
   "cell_type": "code",
   "execution_count": null,
   "id": "c596bdb5",
   "metadata": {},
   "outputs": [],
   "source": [
    "<span class=\"text-base font-medium text-primary break-all\">stake1u9cp6hfrsvqc0jn9eeskdtk3l7usqaa35lm925f7usqtzhsy472z0</span>"
   ]
  },
  {
   "cell_type": "code",
   "execution_count": 27,
   "id": "eb7c4732",
   "metadata": {},
   "outputs": [
    {
     "data": {
      "text/plain": [
       "'stake1u9cp6hfrsvqc0jn9eeskdtk3l7usqaa35lm925f7usqtzhsy472z0'"
      ]
     },
     "execution_count": 27,
     "metadata": {},
     "output_type": "execute_result"
    }
   ],
   "source": [
    "text.find('span',class_ = \"text-base font-medium text-primary break-all\").text"
   ]
  },
  {
   "cell_type": "code",
   "execution_count": null,
   "id": "959a52a7",
   "metadata": {},
   "outputs": [],
   "source": []
  },
  {
   "cell_type": "code",
   "execution_count": null,
   "id": "c59aa893",
   "metadata": {},
   "outputs": [],
   "source": []
  },
  {
   "cell_type": "code",
   "execution_count": null,
   "id": "7dd3f69c",
   "metadata": {},
   "outputs": [],
   "source": []
  },
  {
   "cell_type": "code",
   "execution_count": 51,
   "id": "0adf93f9",
   "metadata": {},
   "outputs": [],
   "source": [
    "address_excel = pd.read_excel(\"/home/b/Downloads/Adressesv2.xlsx\", sheet_name = 'Cardano')"
   ]
  },
  {
   "cell_type": "code",
   "execution_count": 71,
   "id": "54b647cf",
   "metadata": {},
   "outputs": [],
   "source": [
    "stake_addrs = address_excel['account hash string']"
   ]
  },
  {
   "cell_type": "code",
   "execution_count": 89,
   "id": "139c5dd4",
   "metadata": {},
   "outputs": [],
   "source": [
    "stake_addrs2 = address_excel['stake addresses']"
   ]
  },
  {
   "cell_type": "code",
   "execution_count": 73,
   "id": "2985168b",
   "metadata": {},
   "outputs": [
    {
     "data": {
      "text/plain": [
       "0      96a4200f7d2c9dc78ec9cb9d9236ea8486ac61327a360b...\n",
       "1      03e3efb5ebfb7c69e9f23d7dcb3971b808acc4f1273324...\n",
       "2      08d5e9c83facc29f9caba2172743fd04f93f4ac243d10b...\n",
       "3      96b61bd12b5747d1ba8198d25a478c75c5b40a01552b46...\n",
       "4      cf08d20766fd9f0c2b3b6ca51292a07e5c8d461364b354...\n",
       "                             ...                        \n",
       "495    95ba3f55eabb57837135f096a2f0fcd73e602128a29474...\n",
       "496    a757e3ecaaa3bdfddb6544ddef4fd95e4834ec516b7c64...\n",
       "497    29d4dbdf9f61bc49eef71187df6849fb328a0a037f56fc...\n",
       "498    4132a36bfdf256f563f997a94cc30aff9acedcb15e27c3...\n",
       "499    b333e10e73405bc0b543dad542f8708b9a548730112623...\n",
       "Name: account hash string, Length: 500, dtype: object"
      ]
     },
     "execution_count": 73,
     "metadata": {},
     "output_type": "execute_result"
    }
   ],
   "source": [
    "stake_addrs"
   ]
  },
  {
   "cell_type": "code",
   "execution_count": 81,
   "id": "0395bf52",
   "metadata": {},
   "outputs": [],
   "source": [
    "t = requests.get('https://cardanoscan.io/addresses?stakeKey=' + stake_addrs[4])\n",
    "text = bs.BeautifulSoup(t.text)"
   ]
  },
  {
   "cell_type": "code",
   "execution_count": 75,
   "id": "07f30719",
   "metadata": {},
   "outputs": [
    {
     "data": {
      "text/plain": [
       "200"
      ]
     },
     "execution_count": 75,
     "metadata": {},
     "output_type": "execute_result"
    }
   ],
   "source": [
    "t.status_code"
   ]
  },
  {
   "cell_type": "code",
   "execution_count": 84,
   "id": "810c4512",
   "metadata": {},
   "outputs": [
    {
     "data": {
      "text/plain": [
       "'addr1qxy4v4qufl44schr3yaqg5lcp4a9l34ph2szg9x5qm5ms0x0prfqwehanuxzkwmv55ff9gr7tjx5vymykd2galr9chaq8jayxh'"
      ]
     },
     "execution_count": 84,
     "metadata": {},
     "output_type": "execute_result"
    }
   ],
   "source": [
    "text.find_all('a',class_='font-mono link')[1].text"
   ]
  },
  {
   "cell_type": "code",
   "execution_count": 85,
   "id": "a76518fe",
   "metadata": {},
   "outputs": [],
   "source": [
    "all_addrs = np.array([])\n",
    "for n in stake_addrs[0:5]:\n",
    "    temp_addrs = np.array([])\n",
    "    t = requests.get('https://cardanoscan.io/addresses?stakeKey=' + n)\n",
    "    text = bs.BeautifulSoup(t.text)\n",
    "    \n",
    "    addr_extract = text.find_all('a',class_='font-mono link')\n",
    "    for p in addr_extract:\n",
    "        temp_addrs = np.append(temp_addrs,p.text)\n",
    "        \n",
    "    all_addrs = np.append(all_addrs,temp_addrs)\n",
    "    \n",
    "    \n",
    "    \n"
   ]
  },
  {
   "cell_type": "code",
   "execution_count": 88,
   "id": "c02e1034",
   "metadata": {},
   "outputs": [],
   "source": [
    "api = BlockFrostApi(\n",
    "    project_id='mainnetIxXNuWUbgncbzz6iIdMfRmCuUmmoLHrj',  # or export environment variable BLOCKFROST_PROJECT_ID\n",
    "    # optional: pass base_url or export BLOCKFROST_API_URL to use testnet, defaults to ApiUrls.mainnet.value\n",
    "    base_url=ApiUrls.testnet.value,\n",
    ")\n",
    "\n"
   ]
  },
  {
   "cell_type": "code",
   "execution_count": 92,
   "id": "95658ac1",
   "metadata": {},
   "outputs": [
    {
     "ename": "ApiError",
     "evalue": "{'error': 'Forbidden', 'message': 'Network token mismatch. Are you using token for the correct network? See https://blockfrost.dev/docs/start-building#available-networks', 'status_code': 403}",
     "output_type": "error",
     "traceback": [
      "\u001b[0;31m---------------------------------------------------------------------------\u001b[0m",
      "\u001b[0;31mApiError\u001b[0m                                  Traceback (most recent call last)",
      "\u001b[0;32m/tmp/ipykernel_3909/3936573230.py\u001b[0m in \u001b[0;36m<module>\u001b[0;34m\u001b[0m\n\u001b[0;32m----> 1\u001b[0;31m \u001b[0mapi\u001b[0m\u001b[0;34m.\u001b[0m\u001b[0maccount_addresses\u001b[0m\u001b[0;34m(\u001b[0m\u001b[0mstake_addrs2\u001b[0m\u001b[0;34m[\u001b[0m\u001b[0;36m0\u001b[0m\u001b[0;34m]\u001b[0m\u001b[0;34m)\u001b[0m\u001b[0;34m\u001b[0m\u001b[0;34m\u001b[0m\u001b[0m\n\u001b[0m",
      "\u001b[0;32m~/anaconda3/lib/python3.9/site-packages/blockfrost/utils.py\u001b[0m in \u001b[0;36mpagination\u001b[0;34m(*args, **kwargs)\u001b[0m\n\u001b[1;32m    103\u001b[0m             \u001b[0mrequest_response\u001b[0m\u001b[0;34m:\u001b[0m \u001b[0mResponse\u001b[0m \u001b[0;34m=\u001b[0m \u001b[0mfunc\u001b[0m\u001b[0;34m(\u001b[0m\u001b[0;34m*\u001b[0m\u001b[0margs\u001b[0m\u001b[0;34m,\u001b[0m \u001b[0;34m**\u001b[0m\u001b[0mkwargs\u001b[0m\u001b[0;34m)\u001b[0m\u001b[0;34m\u001b[0m\u001b[0;34m\u001b[0m\u001b[0m\n\u001b[1;32m    104\u001b[0m             \u001b[0;32mif\u001b[0m \u001b[0mrequest_response\u001b[0m\u001b[0;34m.\u001b[0m\u001b[0mstatus_code\u001b[0m \u001b[0;34m!=\u001b[0m \u001b[0;36m200\u001b[0m\u001b[0;34m:\u001b[0m\u001b[0;34m\u001b[0m\u001b[0;34m\u001b[0m\u001b[0m\n\u001b[0;32m--> 105\u001b[0;31m                 \u001b[0;32mraise\u001b[0m \u001b[0mApiError\u001b[0m\u001b[0;34m(\u001b[0m\u001b[0mrequest_response\u001b[0m\u001b[0;34m)\u001b[0m\u001b[0;34m\u001b[0m\u001b[0;34m\u001b[0m\u001b[0m\n\u001b[0m\u001b[1;32m    106\u001b[0m             \u001b[0mrequest_json\u001b[0m \u001b[0;34m=\u001b[0m \u001b[0mrequest_response\u001b[0m\u001b[0;34m.\u001b[0m\u001b[0mjson\u001b[0m\u001b[0;34m(\u001b[0m\u001b[0;34m)\u001b[0m\u001b[0;34m\u001b[0m\u001b[0;34m\u001b[0m\u001b[0m\n\u001b[1;32m    107\u001b[0m         \u001b[0;32mif\u001b[0m \u001b[0;34m'return_type'\u001b[0m \u001b[0;32min\u001b[0m \u001b[0mkwargs\u001b[0m\u001b[0;34m:\u001b[0m\u001b[0;34m\u001b[0m\u001b[0;34m\u001b[0m\u001b[0m\n",
      "\u001b[0;31mApiError\u001b[0m: {'error': 'Forbidden', 'message': 'Network token mismatch. Are you using token for the correct network? See https://blockfrost.dev/docs/start-building#available-networks', 'status_code': 403}"
     ]
    }
   ],
   "source": [
    "api.account_addresses(stake_addrs2[0])"
   ]
  },
  {
   "cell_type": "code",
   "execution_count": 86,
   "id": "b22e8dab",
   "metadata": {
    "scrolled": true
   },
   "outputs": [
    {
     "data": {
      "text/plain": [
       "array(['addr1qxt2ggq005kfm3uwe89emy3ka2zgdtrpxfarvz6033l3fqvk5ssq7lfvnhrcajwtnkfrd65ys6kxzvn6xc95lrrlzjqsjttk32',\n",
       "       'addr1q8666dyqryw9vyww0ssfa2dh0ranvp7jeuyq7m7rvn9rsucru0hmt6lm0357nu3a0h9njudcpzkvfuf8xvjpsahdvsqsvwls9y',\n",
       "       'addr1qxvnymflushzp7w9a6fqvaagatwwzsvu6rs5ugvwht3qyycg6h5us0avc20ee2azzun58lgylyl54sjr6y9efwq86krsghlzfu',\n",
       "       'addr1q8flsmfud88nr56dnnerj4snr6yc3qptu3tqe5expx527aqg6h5us0avc20ee2azzun58lgylyl54sjr6y9efwq86krs4xpnl3',\n",
       "       'addr1q9dp7g3a5ew4l747qsknxlvm99ucmy3frnjv3s28m4g0h6gg6h5us0avc20ee2azzun58lgylyl54sjr6y9efwq86krsx26qpr',\n",
       "       'addr1q9uvvtmd6436yxf7gn02tyj4pgt3tyyptnx3mhtgw2j365qg6h5us0avc20ee2azzun58lgylyl54sjr6y9efwq86krs7ys9ju',\n",
       "       'addr1qy2twmc0anfuuc8u92j9gyqyjm4h5talqh8g5rh46pl2l2gg6h5us0avc20ee2azzun58lgylyl54sjr6y9efwq86krszhcyt2',\n",
       "       'addr1qxmvnnxm07ukqs6hk4dd7yse6u5x4p2fjl6mdsul4zydsncg6h5us0avc20ee2azzun58lgylyl54sjr6y9efwq86krssjmf79',\n",
       "       'addr1qxqgms30z7gzctldf67lg3adywqhhcnfacapm08m04cxewqg6h5us0avc20ee2azzun58lgylyl54sjr6y9efwq86krs7ag5m8',\n",
       "       'addr1qymh2r8zrx2jzfxcndecwlxasgl5det30q7y54zqada6ehqg6h5us0avc20ee2azzun58lgylyl54sjr6y9efwq86krsxyrajd',\n",
       "       'addr1q8gzfdnzx54v4s3zqmzd73xy06wjytfysgtc5hvwytdcahcg6h5us0avc20ee2azzun58lgylyl54sjr6y9efwq86krs6aghy6',\n",
       "       'addr1qy3ms6hvqyqke3vuzketteur6sz020l4pga7sv2yseul57qg6h5us0avc20ee2azzun58lgylyl54sjr6y9efwq86krs45shus',\n",
       "       'addr1q8d76rx5d6u0yc8q46aczfwjrz8msgqt5754fwj3mq58fvqg6h5us0avc20ee2azzun58lgylyl54sjr6y9efwq86krse32z3n',\n",
       "       'addr1q9k6vrvts6t85u4lf35weczujr6yqtgdxwv4esn8dvcxpdgg6h5us0avc20ee2azzun58lgylyl54sjr6y9efwq86krslh589x',\n",
       "       'addr1qxk59f8cd458n45gxqjp5tz8n47spl0glp9y7cqlnucwjfsg6h5us0avc20ee2azzun58lgylyl54sjr6y9efwq86krs2ykf5c',\n",
       "       'addr1q8v20xtr3slwat4leygnh9jp4x4sse7n9xkeralya0gah4gg6h5us0avc20ee2azzun58lgylyl54sjr6y9efwq86krsqcclht',\n",
       "       'addr1q877xmll4yyzf77v087q502c0nht96l3tf9pln6a0dt6mtgg6h5us0avc20ee2azzun58lgylyl54sjr6y9efwq86krssvmfcn',\n",
       "       'addr1q89y2suvzudzcevsya3wfgn5mn4n9uk3u4tqdl3a8rlnnkgg6h5us0avc20ee2azzun58lgylyl54sjr6y9efwq86krsvgvc6f',\n",
       "       'addr1qx874rz49t8wfdfuxp7jhkw0czuz6900yv6shp8vw7smw3cg6h5us0avc20ee2azzun58lgylyl54sjr6y9efwq86krsx5j8jk',\n",
       "       'addr1qxfyefpwms0y5nsjaltz4ar4xnacn7yyxalu565rkfshhacg6h5us0avc20ee2azzun58lgylyl54sjr6y9efwq86krsz404um',\n",
       "       'addr1q908pded7rhru5msefdlxwv8yugjeyt2qzew2f5snr0n64sg6h5us0avc20ee2azzun58lgylyl54sjr6y9efwq86krsvtkyj8',\n",
       "       'addr1q96y3hhzfp4x64s6s7uwchns0rn3kw3ggx8jptncagn6vzsg6h5us0avc20ee2azzun58lgylyl54sjr6y9efwq86krspapz0y',\n",
       "       'addr1qyczcjtvx73jjfafkhedj9nzpuhdwqrw84fffnueck7g5jykkcdaz26hglgm4qvc6fdy0rr4ck6q5q249drqc4fzyrgq92alsj',\n",
       "       'addr1q957p9n6yjw2mmytls2utj8ethh02n3k3zl62se2yat9xw5kkcdaz26hglgm4qvc6fdy0rr4ck6q5q249drqc4fzyrgqu863t6',\n",
       "       'addr1qxtrqdumg8dleqcra3myptlq6n43m8s0mver0pwgqrr8awvkkcdaz26hglgm4qvc6fdy0rr4ck6q5q249drqc4fzyrgq68vuva',\n",
       "       'addr1qxzk60pqty4jw5jacls7n4rdzhhwwzgrtkndjyxr554gh6ukkcdaz26hglgm4qvc6fdy0rr4ck6q5q249drqc4fzyrgq4hj72f',\n",
       "       'addr1q8memg6cfv9qgy4889tphf2fmhrr9r5hhtkhnmyzn60fnhukkcdaz26hglgm4qvc6fdy0rr4ck6q5q249drqc4fzyrgqrc9dqe',\n",
       "       'addr1qyr066luel3lgq4ws886q9a6ylsyr0f58akgk7ns4pp0q0vkkcdaz26hglgm4qvc6fdy0rr4ck6q5q249drqc4fzyrgqm3kksq',\n",
       "       'addr1q9q8fh098fanr6dq0eattscqr5qgmllj9dv3y3t40zme32ukkcdaz26hglgm4qvc6fdy0rr4ck6q5q249drqc4fzyrgq2nmn3p',\n",
       "       'addr1qx80ax0n9quz7hasmqfuhmc9ygvnejpum4hw6htyhrr06nykkcdaz26hglgm4qvc6fdy0rr4ck6q5q249drqc4fzyrgqqxualz',\n",
       "       'addr1qywvkuvzwslzug056665aweuvcyw84hhcgcmeh2z3fwyleykkcdaz26hglgm4qvc6fdy0rr4ck6q5q249drqc4fzyrgqkqfall',\n",
       "       'addr1q89tkelcgpzs7rrn7jx2vnlk6yhgaryvkrdqf2zmsp9u35ukkcdaz26hglgm4qvc6fdy0rr4ck6q5q249drqc4fzyrgq78wtmu',\n",
       "       'addr1qxle5ft5t7np756md6mdv2eytpukpepklwzcj3engk3xwc5kkcdaz26hglgm4qvc6fdy0rr4ck6q5q249drqc4fzyrgqjxlh2g',\n",
       "       'addr1qyxke3kw72am3t8j3znk90aaegj0m42cmfhctwpjxpyqez5kkcdaz26hglgm4qvc6fdy0rr4ck6q5q249drqc4fzyrgqk59cjz',\n",
       "       'addr1q82rwccur3ujlu0ty70x4vhjltfejtustu99vpvu7v00qmvkkcdaz26hglgm4qvc6fdy0rr4ck6q5q249drqc4fzyrgqt5kl9a',\n",
       "       'addr1qyqkfv3qd3jp0n66y53h2seahddwjzmwm3yqpw00nnhpy9ukkcdaz26hglgm4qvc6fdy0rr4ck6q5q249drqc4fzyrgqzmr0ty',\n",
       "       'addr1qx4lxa65f2ujaazsxsrpsulc772us29kvzaaz23dzeehdkukkcdaz26hglgm4qvc6fdy0rr4ck6q5q249drqc4fzyrgqvztde0',\n",
       "       'addr1q9p6qzcx8g72qgqghv0uhlahlg7c35c6nk895lcxk74d9l5kkcdaz26hglgm4qvc6fdy0rr4ck6q5q249drqc4fzyrgqvexz6k',\n",
       "       'addr1q93jqvf6nmkq0wkfwm6yza244edea2wsmdjqp00rh2e2u45kkcdaz26hglgm4qvc6fdy0rr4ck6q5q249drqc4fzyrgqqqr94t',\n",
       "       'addr1qysqkx6wpzgtwe6v7wwr4u43zysjnxnag3rql36p8gwmdgukkcdaz26hglgm4qvc6fdy0rr4ck6q5q249drqc4fzyrgq628ztj',\n",
       "       'addr1qx3auzw7j9e2apk33a26jk7nfyf9zp0rz8x5ud8umsd8ssvkkcdaz26hglgm4qvc6fdy0rr4ck6q5q249drqc4fzyrgq48c3ep',\n",
       "       'addr1qyxrwgzdsqtj4s99ncng0ctnf7pl9y0wkhckpafm9v7chmukkcdaz26hglgm4qvc6fdy0rr4ck6q5q249drqc4fzyrgqq8wvva',\n",
       "       'addr1qxrlkh6yh0km5m5n7923syel0yqqvc3pjrnqrzrz3gwpxd70prfqwehanuxzkwmv55ff9gr7tjx5vymykd2galr9chaqlwjwm9',\n",
       "       'addr1qxy4v4qufl44schr3yaqg5lcp4a9l34ph2szg9x5qm5ms0x0prfqwehanuxzkwmv55ff9gr7tjx5vymykd2galr9chaq8jayxh'],\n",
       "      dtype='<U103')"
      ]
     },
     "execution_count": 86,
     "metadata": {},
     "output_type": "execute_result"
    }
   ],
   "source": [
    "all_addrs"
   ]
  }
 ],
 "metadata": {
  "kernelspec": {
   "display_name": "Python 3 (ipykernel)",
   "language": "python",
   "name": "python3"
  },
  "language_info": {
   "codemirror_mode": {
    "name": "ipython",
    "version": 3
   },
   "file_extension": ".py",
   "mimetype": "text/x-python",
   "name": "python",
   "nbconvert_exporter": "python",
   "pygments_lexer": "ipython3",
   "version": "3.9.13"
  }
 },
 "nbformat": 4,
 "nbformat_minor": 5
}
